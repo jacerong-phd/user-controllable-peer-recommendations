{
 "cells": [
  {
   "cell_type": "code",
   "execution_count": null,
   "id": "e9860267-4ca3-43c4-8b1f-871d5ff40381",
   "metadata": {},
   "outputs": [],
   "source": [
    "import os\n",
    "\n",
    "import numpy as np\n",
    "import pandas as pd\n",
    "import pingouin as pg"
   ]
  },
  {
   "cell_type": "code",
   "execution_count": null,
   "id": "07472175-7913-40b8-9a95-4583755b04b1",
   "metadata": {},
   "outputs": [],
   "source": [
    "import matplotlib as mpl\n",
    "\n",
    "rcParams = {\n",
    "    'font.family': 'Linux Libertine O',\n",
    "    'text.latex.preamble': r'\\usepackage{libertine}',\n",
    "}\n",
    "\n",
    "mpl.rcParams.update(rcParams)"
   ]
  },
  {
   "cell_type": "code",
   "execution_count": null,
   "id": "7e54ae05-0f30-48b2-8a01-11a5f6157e7b",
   "metadata": {},
   "outputs": [],
   "source": [
    "import matplotlib.pyplot as plt\n",
    "import seaborn as sns"
   ]
  },
  {
   "cell_type": "code",
   "execution_count": null,
   "id": "a6f44e62-ee1f-4ba3-af3b-91dd4c2b545f",
   "metadata": {},
   "outputs": [],
   "source": [
    "CURRENT_PATH = os.getcwd()\n",
    "\n",
    "DATA_PATH = {\n",
    "    'interim': os.path.join(CURRENT_PATH, 'data'),\n",
    "    'analyses': os.path.join(CURRENT_PATH, 'data', 'ANOVA'),\n",
    "}"
   ]
  },
  {
   "cell_type": "code",
   "execution_count": null,
   "id": "7b208800-61fb-4cd3-8941-c56a790e4623",
   "metadata": {},
   "outputs": [],
   "source": [
    "INPUT_FNAMES = {\n",
    "    'experiment-data': os.path.join(DATA_PATH['interim'], 'experiment-data.csv'),\n",
    "}"
   ]
  },
  {
   "cell_type": "markdown",
   "id": "20e292fc-8a6f-4bab-b96e-c56301e9bfe7",
   "metadata": {},
   "source": [
    "## Analysis of Variance (ANOVA)"
   ]
  },
  {
   "cell_type": "markdown",
   "id": "f899f05d-1ef9-4586-b73a-f2b54c36e722",
   "metadata": {},
   "source": [
    "### 0. Preliminaries\n",
    "\n",
    "⚠️ Please edit `MODEL_DICT` and `NUM_PARTICIPANTS` below as appropriate."
   ]
  },
  {
   "cell_type": "code",
   "execution_count": null,
   "id": "1a6b1c4d-b66b-428c-a9ff-32ba7d834974",
   "metadata": {},
   "outputs": [],
   "source": [
    "EXPERIMENT_DATA = pd.read_csv(INPUT_FNAMES['experiment-data'])"
   ]
  },
  {
   "cell_type": "code",
   "execution_count": null,
   "id": "954d0d65-5dfc-4e58-b953-afe49170f660",
   "metadata": {},
   "outputs": [],
   "source": [
    "# reverse E2\n",
    "EXPERIMENT_DATA.loc[(EXPERIMENT_DATA['indicator'] == 'E2'), 'rating'] *= -1"
   ]
  },
  {
   "cell_type": "code",
   "execution_count": null,
   "id": "3b1e403e-827a-4d62-b643-945536e6e61b",
   "metadata": {},
   "outputs": [],
   "source": [
    "MODEL_DICT = {\n",
    "    \"effctv\": [\"E1\", \"E2\", \"E3\"],\n",
    "    \"qualty\": [\"Q1\", \"Q2\", \"Q3\"],\n",
    "    \"undrst\": [\"P1\", \"P2\", \"P3\"],\n",
    "}"
   ]
  },
  {
   "cell_type": "code",
   "execution_count": null,
   "id": "0f8844f2-6520-4971-b622-587296f119f3",
   "metadata": {},
   "outputs": [],
   "source": [
    "NUM_PARTICIPANTS = None\n",
    "SIGNIFICANCE_LEVEL = 0.05"
   ]
  },
  {
   "cell_type": "code",
   "execution_count": null,
   "id": "8941494f-f614-4b28-99f0-02e003c9bf4c",
   "metadata": {},
   "outputs": [],
   "source": [
    "if NUM_PARTICIPANTS is None:\n",
    "    NUM_PARTICIPANTS = len(EXPERIMENT_DATA['prolific_id'].unique())"
   ]
  },
  {
   "cell_type": "code",
   "execution_count": null,
   "id": "be8491ce-0c62-4ed5-bb11-c16106d081ae",
   "metadata": {},
   "outputs": [],
   "source": [
    "BASE_DIR = os.path.join(DATA_PATH['analyses'], 'N={}'.format(NUM_PARTICIPANTS))\n",
    "FIG_DIR = os.path.join(BASE_DIR, 'figures')\n",
    "\n",
    "if not os.path.isdir(FIG_DIR):\n",
    "    os.makedirs(FIG_DIR)"
   ]
  },
  {
   "cell_type": "code",
   "execution_count": null,
   "id": "f3f2989a-61be-48b1-8a8d-d217a20458c7",
   "metadata": {},
   "outputs": [],
   "source": [
    "OUTPUT_FNAMES = {\n",
    "    'anova': os.path.join(BASE_DIR, 'rm-anova.csv'),\n",
    "    'post-hocs': os.path.join(BASE_DIR, 'post-hocs.csv'),\n",
    "}"
   ]
  },
  {
   "cell_type": "code",
   "execution_count": null,
   "id": "84019eb0-5825-4a29-903e-cee0e07c8d09",
   "metadata": {},
   "outputs": [],
   "source": [
    "def top_n_participants(df: pd.DataFrame, n: int) -> pd.DataFrame:\n",
    "    ids = df \\\n",
    "          .sort_values(by='completion_time', ignore_index=True) \\\n",
    "          .drop_duplicates(subset=['prolific_id'], keep='last', ignore_index=True) \\\n",
    "          .iloc[:n, 0] # index 0: Prolific ID\n",
    "\n",
    "    return df.loc[(df['prolific_id'].isin(ids.values))]"
   ]
  },
  {
   "cell_type": "markdown",
   "id": "14c2dca5-4e52-4501-afe6-0e6380a79336",
   "metadata": {},
   "source": [
    "### 1. One-Way ANOVA"
   ]
  },
  {
   "cell_type": "code",
   "execution_count": null,
   "id": "36148f54-e8cf-48ec-ba3b-b799659cf38b",
   "metadata": {},
   "outputs": [],
   "source": [
    "def statistical_test(\n",
    "    df: pd.DataFrame,\n",
    "    test: str,\n",
    "):\n",
    "    \"\"\"Either pairwise comparisons (T-tests) or ANOVA.\n",
    "\n",
    "    Sources:\n",
    "      <https://www.reneshbedre.com/blog/repeated-measure-anova.html#perform-one-way-repeated-measures-anova>\n",
    "      <https://stats.stackexchange.com/a/377622>\n",
    "    \"\"\"\n",
    "    df =  df \\\n",
    "          .groupby(['prolific_id', 'condition'])['rating'] \\\n",
    "          .aggregate(['mean']) \\\n",
    "          .reset_index()\n",
    "\n",
    "    func = None\n",
    "\n",
    "    params = {\n",
    "        'data': df,\n",
    "        'dv': 'mean',\n",
    "        'within': ['condition'],\n",
    "        'subject': 'prolific_id',\n",
    "    }\n",
    "\n",
    "    if test == 'pwc':\n",
    "        params['padjust'] = 'fdr_bh'\n",
    "        func = pg.pairwise_tests\n",
    "    elif test == 'anova':\n",
    "        func = pg.rm_anova\n",
    "    else:\n",
    "        raise Exception('Unknown test')\n",
    "\n",
    "    return func(**params)"
   ]
  },
  {
   "cell_type": "code",
   "execution_count": null,
   "id": "e112d8f9-fe9b-4e7d-b04d-7088b8a5fdb6",
   "metadata": {},
   "outputs": [],
   "source": [
    "def normalize_data(df: pd.DataFrame) -> pd.DataFrame:\n",
    "    \"\"\"Remove between-subject variability\n",
    "\n",
    "    Source:\n",
    "        <https://www.cogsci.nl/blog/tutorials/156-an-easy-way-to-create-graphs-with-within-subject-error-bars>\n",
    "\n",
    "    References:\n",
    "        Cousineau, D. (2005). Confidence intervals in within-subject designs: A simpler solution to Loftus and Masson's method.\n",
    "    \"\"\"\n",
    "    df = df \\\n",
    "         .pivot_table(index='prolific_id', columns=['condition'], values='rating') \\\n",
    "         .reset_index().rename_axis(None, axis=1)\n",
    "\n",
    "    df['subject_average'] = df.iloc[:, 1:4].mean(axis=1)\n",
    "    grand_average = df['subject_average'].values.mean()\n",
    "\n",
    "    for i in range(1, 4):\n",
    "        df.iloc[:, i] = df.iloc[:, i] - df['subject_average'] + grand_average\n",
    "\n",
    "    df = df \\\n",
    "         .drop('subject_average', axis=1) \\\n",
    "         .melt(id_vars='prolific_id', var_name='condition', value_name='rating')\n",
    "\n",
    "    return df"
   ]
  },
  {
   "cell_type": "code",
   "execution_count": null,
   "id": "f9aeadc0-045e-41fa-8ff3-1540488cf153",
   "metadata": {},
   "outputs": [],
   "source": [
    "def format_p_value(p_value: float):\n",
    "    \"\"\"Format p value according to APA Style 7th Edition.\n",
    "    \n",
    "    Source:\n",
    "        <https://apastyle.apa.org/instructional-aids/numbers-statistics-guide.pdf>\n",
    "    \"\"\"\n",
    "    sign = '='\n",
    "    if p_value < .001:\n",
    "        sign = '<'\n",
    "        p_value = .001\n",
    "\n",
    "    p_value = '{:.3f}'.format(p_value).strip('0')\n",
    "\n",
    "    return f'{sign} {p_value}'"
   ]
  },
  {
   "cell_type": "code",
   "execution_count": null,
   "id": "ce2ff2f2-8f1d-4c02-88f6-4f494ebe7bdf",
   "metadata": {},
   "outputs": [],
   "source": [
    "def plot_pairwise_tests(ax, pwc):\n",
    "    # Source: <https://stackoverflow.com/a/52743675>\n",
    "    pwc = pwc.loc[:, ['A', 'B', 'p-corr']].values.tolist()\n",
    "\n",
    "    conditions = {'BASE': 0, 'BASE_CONT': 1, 'HETG_CONT': 2}\n",
    "\n",
    "    step = .375\n",
    "\n",
    "    for (cond1, cond2, p_value) in pwc:\n",
    "        xdata = [conditions[cond1], conditions[cond2]]\n",
    "\n",
    "        y = 1.475\n",
    "        if cond1 == 'BASE' and cond2 == 'HETG_CONT':\n",
    "            y += step\n",
    "        elif cond1 == 'BASE_CONT':\n",
    "            y = y + step * 2\n",
    "\n",
    "        ydata = [y, y]\n",
    "\n",
    "        line = ax.add_line(mpl.lines.Line2D(xdata, ydata, linewidth=.5, color=\"black\"))\n",
    "        anno_args = {\n",
    "            'ha': 'center',\n",
    "            'va': 'top',\n",
    "            'size': 6,\n",
    "            'color': line.get_color(),\n",
    "        }\n",
    "\n",
    "        ax.annotate(\"|\", xy=(xdata[0], ydata[0]), **anno_args)\n",
    "        ax.annotate(\"|\", xy=(xdata[1], ydata[1]), **anno_args)\n",
    "\n",
    "        ax.annotate(\n",
    "            r'$p {}$'.format(format_p_value(p_value)), (.5, .5),\n",
    "            xycoords=line, ha='center', va='bottom',\n",
    "            fontsize=10\n",
    "        )\n",
    "\n",
    "    return ax"
   ]
  },
  {
   "cell_type": "code",
   "execution_count": null,
   "id": "414db9d9-c509-4302-9ac4-a7b7faa3c0f8",
   "metadata": {},
   "outputs": [],
   "source": [
    "def draw_point_plot(df: pd.DataFrame, aov: dict = None):\n",
    "    ax = sns.pointplot(\n",
    "        data=df, x=\"condition\", y=\"rating\",\n",
    "        estimator=\"mean\", errorbar=('se'),\n",
    "        capsize=.15, errwidth=.5, color=\"black\", linestyles=\"none\"\n",
    "    )\n",
    "\n",
    "    ax.set_xlabel(None)\n",
    "    ax.set_ylabel(None)\n",
    "\n",
    "    ax.set_ylim([0.65, 1.45])\n",
    "    ax.set_yticks(np.arange(0.7, 1.5, 0.1))\n",
    "\n",
    "    ax.yaxis.grid(color='gainsboro', alpha=.375)\n",
    "\n",
    "    ax.tick_params(axis='both', which='major', labelsize=11)\n",
    "\n",
    "    \"\"\"\n",
    "    plt_title = r'ANOVA, $F ({}, {}) = {:.2f}$, $p {}$'.format(\n",
    "        aov['ddof1'],\n",
    "        aov['ddof2'],\n",
    "        aov['F'],\n",
    "        format_p_value(aov['p-unc']),\n",
    "    )\n",
    "\n",
    "    ax.set_title(label=plt_title, fontsize=12)\n",
    "    \"\"\"\n",
    "\n",
    "    ax.margins(0.25)\n",
    "\n",
    "    return ax"
   ]
  },
  {
   "cell_type": "code",
   "execution_count": null,
   "id": "ea517d3c-c11c-4777-84d5-2918bf0f88f3",
   "metadata": {},
   "outputs": [],
   "source": [
    "def one_way_anova(\n",
    "    df: pd.DataFrame,\n",
    "    model_dict: dict,\n",
    "    num_participants: int = NUM_PARTICIPANTS,\n",
    "    fig_dir: str = FIG_DIR\n",
    "):\n",
    "    df = top_n_participants(df, num_participants)\n",
    "\n",
    "    statistics = None\n",
    "    post_hocs = None\n",
    "\n",
    "    for construct, indicators in model_dict.items():\n",
    "        construct_data = df.loc[(df['indicator'].isin(indicators))]\n",
    "\n",
    "        # ANOVA\n",
    "        aov = statistical_test(construct_data, 'anova') \\\n",
    "              .to_dict(orient='records')[0]\n",
    "        \n",
    "        # Point plot\n",
    "        plot_data = normalize_data(construct_data)\n",
    "        ax = draw_point_plot(plot_data, aov=None)\n",
    "\n",
    "        # pairwise comparisons\n",
    "        if aov['p-unc'] <= SIGNIFICANCE_LEVEL:\n",
    "            pwc = statistical_test(construct_data, 'pwc')\n",
    "            # ax = plot_pairwise_tests(ax, pwc)\n",
    "            \n",
    "            pwc.insert(1, 'construct', construct)\n",
    "            pwc = pwc.loc[:, ['construct', 'A', 'B', 'p-corr']]\n",
    "\n",
    "            post_hocs = (pwc.copy(deep=True) if post_hocs is None\n",
    "                         else pd.concat((post_hocs, pwc), ignore_index=True))\n",
    "    \n",
    "        # save figure\n",
    "        fig = ax.get_figure()\n",
    "        fname = os.path.join(fig_dir, f'{construct}.pdf')\n",
    "        fig.savefig(fname, dpi=400, bbox_inches='tight', transparent=True)\n",
    "        fig.clf()\n",
    "\n",
    "        # statistics\n",
    "        stats = construct_data \\\n",
    "                .groupby('condition')['rating'] \\\n",
    "                .aggregate(['mean', ('std', lambda x: np.std(x))]) \\\n",
    "                .reset_index()\n",
    "\n",
    "        cols = ['mean', 'std']\n",
    "        stats[cols] = stats[cols].map(lambda x: '{0:.3f}'.format(x))\n",
    "        stats['M (SD)'] = stats['mean'] + ' (' + stats['std'] + ')'\n",
    "\n",
    "        stats = stats.drop(columns=cols).melt(id_vars='condition', var_name='desc')\n",
    "        stats.loc[len(stats)] = ['ANOVA', 'p-unc', '{0:.3f}'.format(aov['p-unc'])]\n",
    "\n",
    "        stats.insert(0, 'construct', construct)\n",
    "\n",
    "        statistics = (stats.copy(deep=True) if statistics is None\n",
    "                      else pd.concat((statistics, stats), ignore_index=True))\n",
    "\n",
    "    statistics = statistics \\\n",
    "                 .pivot(index=['construct'], columns=['condition', 'desc']) \\\n",
    "                 .reset_index()\n",
    "\n",
    "    statistics.columns = statistics.columns.droplevel()\n",
    "\n",
    "    return statistics, post_hocs"
   ]
  },
  {
   "cell_type": "code",
   "execution_count": null,
   "id": "ad5a0bc3-8b16-4c67-869b-3a20379eb5a3",
   "metadata": {},
   "outputs": [],
   "source": [
    "if (\n",
    "        not os.path.isfile(OUTPUT_FNAMES['anova']) or\n",
    "        not os.path.isfile(OUTPUT_FNAMES['post-hocs'])\n",
    "):\n",
    "    statistics, post_hocs = one_way_anova(EXPERIMENT_DATA, MODEL_DICT)\n",
    "\n",
    "    statistics.to_csv(OUTPUT_FNAMES['anova'], index=False)\n",
    "    post_hocs.to_csv(OUTPUT_FNAMES['post-hocs'], index=False, float_format='%.3f')"
   ]
  },
  {
   "cell_type": "code",
   "execution_count": null,
   "id": "1b4f81f0-214a-404d-b257-a5b153ea017f",
   "metadata": {},
   "outputs": [],
   "source": []
  }
 ],
 "metadata": {
  "kernelspec": {
   "display_name": "Python 3 (ipykernel)",
   "language": "python",
   "name": "python3"
  },
  "language_info": {
   "codemirror_mode": {
    "name": "ipython",
    "version": 3
   },
   "file_extension": ".py",
   "mimetype": "text/x-python",
   "name": "python",
   "nbconvert_exporter": "python",
   "pygments_lexer": "ipython3",
   "version": "3.10.13"
  }
 },
 "nbformat": 4,
 "nbformat_minor": 5
}
