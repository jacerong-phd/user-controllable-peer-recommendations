{
 "cells": [
  {
   "cell_type": "code",
   "execution_count": null,
   "id": "84937ad7-359c-472f-bb93-3d1cd7753763",
   "metadata": {},
   "outputs": [],
   "source": [
    "library(lavaan)"
   ]
  },
  {
   "cell_type": "code",
   "execution_count": null,
   "id": "b9d31ac2-0b58-455c-a476-503ace94d462",
   "metadata": {},
   "outputs": [],
   "source": [
    "experiment.data <- read.csv('data/widefmt-experiment-data.csv')"
   ]
  },
  {
   "cell_type": "code",
   "execution_count": null,
   "id": "a920e780-14b8-45fb-9593-e9017e2bcb01",
   "metadata": {},
   "outputs": [],
   "source": [
    "experiment.data$E2 <- experiment.data$E2 * -1\n",
    "experiment.data$Q4 <- experiment.data$Q4 * -1"
   ]
  },
  {
   "cell_type": "markdown",
   "id": "c8904901-2852-4339-9a1d-4ced06a9fac7",
   "metadata": {},
   "source": [
    "## 1. Confirmatory Factor Analysis"
   ]
  },
  {
   "cell_type": "code",
   "execution_count": null,
   "id": "b93c23fd-f04c-4f83-8a46-8ee4935dbf48",
   "metadata": {},
   "outputs": [],
   "source": [
    "fit.measures = c(\"chisq\", \"df\", \"pvalue\", \"rmsea\", \"rmsea.ci.lower\", \"rmsea.ci.upper\", \"cfi\", \"tli\")"
   ]
  },
  {
   "cell_type": "code",
   "execution_count": null,
   "id": "f2590c5d-42a4-4bec-a3fe-28a213f42990",
   "metadata": {},
   "outputs": [],
   "source": [
    "construct_reliability <- function(df){\n",
    "    #' Average Variance Extracted (AVE)\n",
    "    #'   The grand mean value of the squared loadings of the indicators\n",
    "    #'   associated with a particular construct (i.e., the sum of the squared\n",
    "    #'   loadings divided by the numbers of indicators). (Hair et al., 2017; pp. 130)\n",
    "    df <- df[df$op == \"=~\",]\n",
    "\n",
    "    result <- NULL\n",
    "    \n",
    "    factors <- unique(df$lhs)\n",
    "    for (factor in factors) {\n",
    "        std_loadings <- df[df$lhs == factor,][[\"est.std\"]]\n",
    "        squared_loadings <- std_loadings^2\n",
    "\n",
    "        # Average Variance Extracted (AVE)\n",
    "        ave <- mean(squared_loadings)\n",
    "        sqrt_ave <- round(sqrt(ave), digits = 3)\n",
    "        ave <- round(ave, digits = 3)\n",
    "\n",
    "        # Composite Reliability (CR)\n",
    "        sum_loadings <- sum(std_loadings)\n",
    "        var_e <- 1 - squared_loadings\n",
    "        \n",
    "        comp_r <- (sum_loadings^2) / ((sum_loadings^2) + sum(var_e))\n",
    "        comp_r <- round(comp_r, digits = 3)\n",
    "\n",
    "        res <- c(factor, comp_r, ave, sqrt_ave)\n",
    "        res <- array(res, dim=c(1, length(res)))\n",
    "\n",
    "        result <- if (is.null(result)) res else rbind(result, res)\n",
    "    }\n",
    "\n",
    "    result <- data.frame(result)\n",
    "    colnames(result) <- c(\"factor\", \"comp_r\", \"ave\", \"sqrt_ave\")\n",
    "\n",
    "    return(result)\n",
    "}"
   ]
  },
  {
   "cell_type": "markdown",
   "id": "5925c35f-a3fc-4979-a000-b7f7cca7ab40",
   "metadata": {},
   "source": [
    "### 1.1 Original Model"
   ]
  },
  {
   "cell_type": "code",
   "execution_count": null,
   "id": "5ff2a3bb-f0d7-462b-8112-9f93e3adf059",
   "metadata": {},
   "outputs": [],
   "source": [
    "measurement.model <- ' effctv =~ E1 + E2 + E3\n",
    "trust =~ T1 + T2 + T3 + T4\n",
    "dvrsty =~ D1 + D2 + D3\n",
    "qualty =~ Q1 + Q2 + Q3 + Q4\n",
    "undrst =~ P1 + P2 + P3 '"
   ]
  },
  {
   "cell_type": "code",
   "execution_count": null,
   "id": "408c8e16-7861-4dc0-b860-b666316975a0",
   "metadata": {},
   "outputs": [],
   "source": [
    "measurement.model.fit <- cfa(measurement.model,\n",
    "                             data = experiment.data,\n",
    "                             ordered = c(\"E1\", \"E2\", \"E3\",\n",
    "                                         \"T1\", \"T2\", \"T3\", \"T4\",\n",
    "                                         \"D1\", \"D2\", \"D3\",\n",
    "                                         \"Q1\", \"Q2\", \"Q3\", \"Q4\",\n",
    "                                         \"P1\", \"P2\", \"P3\"),\n",
    "                             estimator = \"DWLS\")"
   ]
  },
  {
   "cell_type": "code",
   "execution_count": null,
   "id": "ee4b4fe5-bc5a-4eee-8fc4-3451d7d053ff",
   "metadata": {},
   "outputs": [],
   "source": [
    "estimates <- standardizedSolution(measurement.model.fit)"
   ]
  },
  {
   "cell_type": "code",
   "execution_count": null,
   "id": "0b58f48b-e7e3-4bef-815c-ffbf4baa34cf",
   "metadata": {},
   "outputs": [],
   "source": [
    "print(estimates[estimates$op == \"=~\",])"
   ]
  },
  {
   "cell_type": "code",
   "execution_count": null,
   "id": "e5b25dd7-9dd8-41de-848e-d6719c131b42",
   "metadata": {},
   "outputs": [],
   "source": [
    "print(construct_reliability(estimates))"
   ]
  },
  {
   "cell_type": "code",
   "execution_count": null,
   "id": "b61c3bbe-2ec4-4383-94c4-a2d6abe7b788",
   "metadata": {},
   "outputs": [],
   "source": [
    "print(lavInspect(measurement.model.fit, what = \"cor.lv\"))"
   ]
  },
  {
   "cell_type": "markdown",
   "id": "1f09b0fa-b280-4f5b-ab03-7fee8ae6bd36",
   "metadata": {},
   "source": [
    "🔍 __What should we look at?__\n",
    "1. Comparative Fit Index (CFI) and Tucker-Lewis Index (TLI) have to be values greater than 0.95 (Hu and Bentler, 1999, as cited in Xia and Yang, 2018).\n",
    "2. Root Mean Squared Error of Approximation (RMSEA) smaller than 0.06 suggests relatively good model–data fit (Hu and Bentler, 1999, as cited in Xia and Yang, 2018).\n",
    "3. A common rule of thumb is that (standardized) loadings should be 0.708 or higher, since that number squared (i.e., communality) is 0.5 (Hair et al., 2017, pp. 128).\n",
    "4. Generally, if the loading of an indicator is below 0.4, remove it; if it's greater than or equal to 0.4 and less than 0.7, remove it if, by doing so, there is an increase in composite reliability or AVE above the suggested threshold value (Hair et al., 2017, pp. 128).\n",
    "5. Factors with less than three indicators should be discarded from further analysis (Knijnenburg and Willemsen, 2015).\n",
    "6. In the table of estimates provided by `lavaan`, the standardized factor loadings are in the `Std.all` column. At the row level, focus on the `Latent Variables` section.\n",
    "7. Composite reliability and Cronbach's alpha: values below 0.6 denote a lack of internal consistency reliability, values in the 0.6–0.7 range are acceptable in exploratory research; and values in the 0.7–0.9 range in later stages of research are deemed satisfactory; values above 0.90 are not desirable (Hair et al., 2017).\n",
    "8. Discriminant Validity (Fronell-Larcker criterion): The square root of each construct's AVE should be greater than its highest correlation with any other construct (Hair et al., 2017; Knijnenburg and Willemsen, 2015).\n",
    "9. An alternative approach to evaluating the results of the Fornell-Larcker criterion is to determine whether the AVE is larger than the squared correlation with any other construct (Hair et al., 2017).\n",
    "\n",
    "References:\n",
    "1. Curran, T. (May, 2019). [Exploratory and Confirmatory Factor Anaysis (LT3)](https://www.thomascurran.co.uk/courses/pb230/lt3/)\n",
    "2. Hair, J., Hult, G., Ringle, C., & Sarstedt, M. (2017). [A Primer on Partial Least Squares Structural Equation Modeling (PLS-SEM)](https://eli.johogo.com/Class/CCU/SEM/_A%20Primer%20on%20Partial%20Least%20Squares%20Structural%20Equation%20Modeling_Hair.pdf) (2nd ed.).\n",
    "3. Knijnenburg, B., & Willemsen, M. (2015). [Evaluating recommender systems with user experiments](https://link.springer.com/chapter/10.1007/978-1-4899-7637-6_9)."
   ]
  },
  {
   "cell_type": "markdown",
   "id": "3a93e3ea-866b-4148-a6da-a09d8d5eae5f",
   "metadata": {},
   "source": [
    "### 1.2 First Iteration"
   ]
  },
  {
   "cell_type": "code",
   "execution_count": null,
   "id": "34d1ade8-d300-439a-a60a-fcfb6873efe0",
   "metadata": {},
   "outputs": [],
   "source": [
    "measurement.model2 <- ' effctv =~ E1 + E2 + E3\n",
    "trust =~ T1 + T2 + T3 + T4\n",
    "qualty =~ Q1 + Q2 + Q3 + Q4\n",
    "undrst =~ P1 + P2 + P3 '"
   ]
  },
  {
   "cell_type": "code",
   "execution_count": null,
   "id": "9ee49a59-c655-4f01-b595-ab565aa85f9d",
   "metadata": {},
   "outputs": [],
   "source": [
    "measurement.model2.fit <- cfa(measurement.model2,\n",
    "                              data = experiment.data,\n",
    "                              ordered = c(\"E1\", \"E2\", \"E3\",\n",
    "                                          \"T1\", \"T2\", \"T3\", \"T4\",\n",
    "                                          \"Q1\", \"Q2\", \"Q3\", \"Q4\",\n",
    "                                          \"P1\", \"P2\", \"P3\"),\n",
    "                              estimator=\"DWLS\")"
   ]
  },
  {
   "cell_type": "code",
   "execution_count": null,
   "id": "0dda0755-e290-4741-a6cd-05c5c5b9b377",
   "metadata": {},
   "outputs": [],
   "source": [
    "estimates <- standardizedSolution(measurement.model2.fit)"
   ]
  },
  {
   "cell_type": "code",
   "execution_count": null,
   "id": "783cc096-203c-4698-9bbe-634331b7c12f",
   "metadata": {},
   "outputs": [],
   "source": [
    "print(construct_reliability(estimates))"
   ]
  },
  {
   "cell_type": "code",
   "execution_count": null,
   "id": "6ec2dad1-8868-45da-bf35-0f6a7e8d26bd",
   "metadata": {},
   "outputs": [],
   "source": [
    "print(lavInspect(measurement.model2.fit, what = \"cor.lv\"))"
   ]
  },
  {
   "cell_type": "markdown",
   "id": "7694bc90-04a0-4ed8-bce1-f0ac6e73d25c",
   "metadata": {},
   "source": [
    "### 1.3 Second Iteration"
   ]
  },
  {
   "cell_type": "code",
   "execution_count": null,
   "id": "4275c9a1-0d99-4832-afe9-d1a79bd06c68",
   "metadata": {},
   "outputs": [],
   "source": [
    "measurement.model3 <- ' effctv =~ E1 + E2 + E3\n",
    "trust =~ T1 + T2 + T3\n",
    "qualty =~ Q1 + Q2 + Q3\n",
    "undrst =~ P1 + P2 + P3 '"
   ]
  },
  {
   "cell_type": "code",
   "execution_count": null,
   "id": "0bfb4fc8-b301-4e89-bc1b-6d102eb82af2",
   "metadata": {},
   "outputs": [],
   "source": [
    "measurement.model3.fit <- cfa(measurement.model3,\n",
    "                              data = experiment.data,\n",
    "                              ordered = c(\"E1\", \"E2\", \"E3\",\n",
    "                                          \"T1\", \"T2\", \"T3\",\n",
    "                                          \"Q1\", \"Q2\", \"Q3\",\n",
    "                                          \"P1\", \"P2\", \"P3\"),\n",
    "                              estimator=\"DWLS\")"
   ]
  },
  {
   "cell_type": "code",
   "execution_count": null,
   "id": "83c7a2a5-36a6-4a60-bbe3-1d1dfd154c11",
   "metadata": {},
   "outputs": [],
   "source": [
    "print(fitMeasures(measurement.model3.fit, fit.measures))"
   ]
  },
  {
   "cell_type": "code",
   "execution_count": null,
   "id": "67971294-3a5c-4123-ba25-2d1959bb057c",
   "metadata": {},
   "outputs": [],
   "source": [
    "estimates <- standardizedSolution(measurement.model3.fit)"
   ]
  },
  {
   "cell_type": "code",
   "execution_count": null,
   "id": "04f75f48-33b6-444e-a0c1-7ca0202e2e15",
   "metadata": {},
   "outputs": [],
   "source": [
    "print(construct_reliability(estimates))"
   ]
  },
  {
   "cell_type": "code",
   "execution_count": null,
   "id": "a7c8dee9-e379-4259-8482-06ea6716898f",
   "metadata": {},
   "outputs": [],
   "source": [
    "print(lavInspect(measurement.model3.fit, what = \"cor.lv\"))"
   ]
  },
  {
   "cell_type": "code",
   "execution_count": null,
   "id": "9c2a3fad-3715-415d-a213-d17383be132f",
   "metadata": {},
   "outputs": [],
   "source": [
    "print(estimates[estimates$op == \"=~\",])"
   ]
  },
  {
   "cell_type": "markdown",
   "id": "752e0f60-0506-438a-b9f0-b6cf39c94649",
   "metadata": {},
   "source": [
    "### 1.4 Third Iteration"
   ]
  },
  {
   "cell_type": "code",
   "execution_count": null,
   "id": "b4f81718-a249-4d17-a9dc-9524ccc7a169",
   "metadata": {},
   "outputs": [],
   "source": [
    "measurement.model4 <- ' effctv =~ E1 + E2 + E3\n",
    "qualty =~ Q1 + Q2 + Q3\n",
    "undrst =~ P1 + P2 + P3 '"
   ]
  },
  {
   "cell_type": "code",
   "execution_count": null,
   "id": "1353b303-0ed1-4db8-bddd-8a3c296dee5c",
   "metadata": {},
   "outputs": [],
   "source": [
    "measurement.model4.fit <- cfa(measurement.model4,\n",
    "                              data = experiment.data,\n",
    "                              ordered = c(\"E1\", \"E2\", \"E3\",\n",
    "                                          \"Q1\", \"Q2\", \"Q3\",\n",
    "                                          \"P1\", \"P2\", \"P3\"),\n",
    "                              estimator=\"DWLS\")"
   ]
  },
  {
   "cell_type": "code",
   "execution_count": null,
   "id": "751654ed-c832-4417-99a2-0942dadffa49",
   "metadata": {},
   "outputs": [],
   "source": [
    "print(fitMeasures(measurement.model4.fit, fit.measures))"
   ]
  },
  {
   "cell_type": "code",
   "execution_count": null,
   "id": "4d5739ce-f0e6-4d9f-9c92-118f5ce389e3",
   "metadata": {},
   "outputs": [],
   "source": [
    "estimates <- standardizedSolution(measurement.model4.fit)"
   ]
  },
  {
   "cell_type": "code",
   "execution_count": null,
   "id": "1214419f-050f-45c0-b9ce-90cf5a393825",
   "metadata": {},
   "outputs": [],
   "source": [
    "print(construct_reliability(estimates))"
   ]
  },
  {
   "cell_type": "code",
   "execution_count": null,
   "id": "44820570-aa42-479c-97d0-f94b71a0973d",
   "metadata": {},
   "outputs": [],
   "source": [
    "print(lavInspect(measurement.model4.fit, what = \"cor.lv\"))"
   ]
  },
  {
   "cell_type": "code",
   "execution_count": null,
   "id": "247c4316-69fa-4a49-a300-8e33313960ce",
   "metadata": {},
   "outputs": [],
   "source": [
    "print(estimates[estimates$op == \"=~\",])"
   ]
  },
  {
   "cell_type": "markdown",
   "id": "06be49d2-a247-4b75-86fd-1b9862e3b0a9",
   "metadata": {},
   "source": [
    "## 2. Structural Equation Modelling\n",
    "\n",
    "👉 __Structural equation modeling with ordered categorical data__\n",
    "1. To address the categorical nature of data, the diagonally weighted least squares (DWLS) estimator based on the polychoric correlation matrix has become the most popular method (Savalei & Rhemtulla, 2013, as cited in Xia and Yang, 2018).\n",
    "2. Given that the chi-square fit statistic is affected by large samples, the ratio of the chi-square statistic to the respective degrees of freedom is preferred. A ratio of ≤ 2 indicates a superior fit between the hypothesized model and the sample data (Cole, 1987, as cited in Alavi et al., 2020).\n",
    "3. A non-significant χ2 value (_p_ > .05) is indicative of a path model that fits the data well (Shah, 2012).\n",
    "\n",
    "__Useful links__\n",
    "1. [Chi Square p-value in SEM explained](https://www.youtube.com/watch?v=SHwBTRFGaYQ)\n",
    "2. [Non-significant result in CFA model](https://stats.stackexchange.com/a/442059)\n",
    "3. [Goodness of fit](https://stats.stackexchange.com/a/439656)\n",
    "\n",
    "References:\n",
    "1. Alavi, M., Visentin, D. C., Thapa, D. K., Hunt, G. E., Watson, R., & Cleary, M. L. (2020). [Chi-square for model fit in confirmatory factor analysis](https://onlinelibrary.wiley.com/doi/full/10.1111/jan.14399).\n",
    "2. Shah, R. B. (2012). [A multivariate analysis technique: Structural equation modeling](https://tarj.in/wp-content/uploads/paper/AJMR/2012/AJMR-SEPTEMBER-2012.pdf#page=57).\n",
    "3. Xia, Y., & Yang, Y. (2019). [RMSEA, CFI, and TLI in structural equation modeling with ordered categorical data: The story they tell depends on the estimation methods](https://link.springer.com/article/10.3758/s13428-018-1055-2)."
   ]
  },
  {
   "cell_type": "markdown",
   "id": "e195244c-d358-4d90-95aa-65ced764419e",
   "metadata": {},
   "source": [
    "### 2.1 Saturated Model"
   ]
  },
  {
   "cell_type": "code",
   "execution_count": null,
   "id": "060c39eb-9fee-4f2c-a1c0-7a3d44258763",
   "metadata": {},
   "outputs": [],
   "source": [
    "saturated.path.model <- ' effctv =~ E1 + E2 + E3\n",
    "qualty =~ Q1 + Q2 + Q3\n",
    "undrst =~ P1 + P2 + P3\n",
    "effctv ~ qualty + undrst + ctrlclin + ctrlhetg\n",
    "qualty ~ undrst + ctrlclin + ctrlhetg\n",
    "undrst ~ ctrlclin + ctrlhetg '"
   ]
  },
  {
   "cell_type": "code",
   "execution_count": null,
   "id": "e0c9cd54-19e9-4ba1-8b41-9f9ea0e8e1ff",
   "metadata": {},
   "outputs": [],
   "source": [
    "saturated.path.model.fit <- sem(saturated.path.model,\n",
    "                                data = experiment.data,\n",
    "                                ordered=c(\"E1\", \"E2\", \"E3\",\n",
    "                                          \"Q1\", \"Q2\", \"Q3\",\n",
    "                                          \"P1\", \"P2\", \"P3\"),\n",
    "                                estimator=\"DWLS\")"
   ]
  },
  {
   "cell_type": "code",
   "execution_count": null,
   "id": "f7149d8e-114c-4cdf-9175-69917a35aaf8",
   "metadata": {},
   "outputs": [],
   "source": [
    "estimates <- standardizedSolution(saturated.path.model.fit)"
   ]
  },
  {
   "cell_type": "code",
   "execution_count": null,
   "id": "f9172d67-7d9c-4cba-a84e-94e45b237d56",
   "metadata": {},
   "outputs": [],
   "source": [
    "print(estimates[estimates$op == \"~\",])"
   ]
  },
  {
   "cell_type": "markdown",
   "id": "fb84dbc6-c695-495c-9907-35771d9db510",
   "metadata": {},
   "source": [
    "### 2.2 Pruned Model"
   ]
  },
  {
   "cell_type": "code",
   "execution_count": null,
   "id": "2368e4c6-79b0-4408-bc78-dfa055a17369",
   "metadata": {},
   "outputs": [],
   "source": [
    "pruned.path.model <- ' effctv =~ E1 + E2 + E3\n",
    "qualty =~ Q1 + Q2 + Q3\n",
    "undrst =~ P1 + P2 + P3\n",
    "effctv ~ c*qualty\n",
    "qualty ~ b*undrst\n",
    "undrst ~ a*ctrlhetg\n",
    "ab := a*b\n",
    "bc := b*c\n",
    "abc := a*b*c '"
   ]
  },
  {
   "cell_type": "code",
   "execution_count": null,
   "id": "8e9b07bb-bf15-40fe-82ee-062627327c51",
   "metadata": {},
   "outputs": [],
   "source": [
    "pruned.path.model.fit <- sem(pruned.path.model,\n",
    "                             data = experiment.data,\n",
    "                             ordered=c(\"E1\", \"E2\", \"E3\",\n",
    "                                       \"Q1\", \"Q2\", \"Q3\",\n",
    "                                       \"P1\", \"P2\", \"P3\"),\n",
    "                             estimator=\"DWLS\")"
   ]
  },
  {
   "cell_type": "code",
   "execution_count": null,
   "id": "dbbff560-b961-44f1-91ec-66a55ec69684",
   "metadata": {},
   "outputs": [],
   "source": [
    "print(fitMeasures(pruned.path.model.fit, fit.measures))"
   ]
  },
  {
   "cell_type": "code",
   "execution_count": null,
   "id": "3c69b1a2-b2fc-48b9-b272-6e6c3a833895",
   "metadata": {},
   "outputs": [],
   "source": [
    "estimates <- standardizedSolution(pruned.path.model.fit)"
   ]
  },
  {
   "cell_type": "code",
   "execution_count": null,
   "id": "2be830c7-709c-4c33-8c96-dc06ff58003b",
   "metadata": {},
   "outputs": [],
   "source": [
    "print(estimates[estimates$op %in% c(\"~\", \":=\"),])"
   ]
  },
  {
   "cell_type": "code",
   "execution_count": null,
   "id": "f11d0d5d-377b-45dc-bad8-45c4565276b5",
   "metadata": {},
   "outputs": [],
   "source": [
    "print(lavInspect(pruned.path.model.fit, what = \"rsquare\"))"
   ]
  },
  {
   "cell_type": "code",
   "execution_count": null,
   "id": "f86cce9e-8771-4ce9-ac5a-0be6029f600a",
   "metadata": {},
   "outputs": [],
   "source": []
  }
 ],
 "metadata": {
  "kernelspec": {
   "display_name": "R",
   "language": "R",
   "name": "ir"
  },
  "language_info": {
   "codemirror_mode": "r",
   "file_extension": ".r",
   "mimetype": "text/x-r-source",
   "name": "R",
   "pygments_lexer": "r",
   "version": "4.3.3"
  }
 },
 "nbformat": 4,
 "nbformat_minor": 5
}
